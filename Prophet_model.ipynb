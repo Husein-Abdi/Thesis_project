{
 "cells": [
  {
   "cell_type": "markdown",
   "id": "953bf1fc",
   "metadata": {},
   "source": [
    "<a id=\"1\"></a>\n",
    "<p style=\"background-color:#00B0FF;font-family:Trebuchet MS;font-weight:bold;color:#ffffff;font-size:40px;text-align:center;border-radius:100px 100px;padding:30px;\"\">Energy consumption prediction</p>"
   ]
  },
  {
   "cell_type": "markdown",
   "id": "4943d163",
   "metadata": {},
   "source": [
    "<img src=\"download.jpg\" style= \"width:900px; height:300px\"/>"
   ]
  },
  {
   "cell_type": "code",
   "execution_count": 1,
   "id": "d8acc544",
   "metadata": {},
   "outputs": [
    {
     "name": "stderr",
     "output_type": "stream",
     "text": [
      "C:\\Users\\xusee\\anaconda3\\Lib\\site-packages\\pandas\\core\\arrays\\masked.py:60: UserWarning: Pandas requires version '1.3.6' or newer of 'bottleneck' (version '1.3.5' currently installed).\n",
      "  from pandas.core import (\n"
     ]
    }
   ],
   "source": [
    "import pandas as pd\n",
    "from prophet import Prophet\n",
    "import pickle\n",
    "# Load the dataset\n",
    "df = pd.read_csv('electricity_consumption_data.csv')\n",
    "\n",
    "# Convert 'datetime' to datetime data type\n",
    "df['datetime'] = pd.to_datetime(df['datetime'])"
   ]
  },
  {
   "cell_type": "code",
   "execution_count": 2,
   "id": "2cab7786",
   "metadata": {},
   "outputs": [
    {
     "name": "stdout",
     "output_type": "stream",
     "text": [
      "<class 'pandas.core.frame.DataFrame'>\n",
      "RangeIndex: 18260000 entries, 0 to 18259999\n",
      "Data columns (total 3 columns):\n",
      " #   Column    Dtype         \n",
      "---  ------    -----         \n",
      " 0   datetime  datetime64[ns]\n",
      " 1   guri_num  object        \n",
      " 2   total_KW  float64       \n",
      "dtypes: datetime64[ns](1), float64(1), object(1)\n",
      "memory usage: 417.9+ MB\n",
      "None\n"
     ]
    }
   ],
   "source": [
    "print(df.info())"
   ]
  },
  {
   "cell_type": "code",
   "execution_count": 3,
   "id": "50ecfce5",
   "metadata": {},
   "outputs": [
    {
     "name": "stdout",
     "output_type": "stream",
     "text": [
      "     datetime  guri_num  total_KW\n",
      "0  2018-01-01  SHI16295  3.467545\n",
      "1  2018-01-02  SHI16295  2.995190\n",
      "2  2018-01-03  SHI16295  2.543931\n",
      "3  2018-01-04  SHI16295  4.182799\n",
      "4  2018-01-05  SHI16295  4.323655\n",
      "5  2018-01-06  SHI16295  2.642916\n",
      "6  2018-01-07  SHI16295  0.575852\n",
      "7  2018-01-08  SHI16295  5.610789\n",
      "8  2018-01-09  SHI16295  4.585925\n",
      "9  2018-01-10  SHI16295  3.332111\n",
      "10 2018-01-11  SHI16295  4.508555\n",
      "11 2018-01-12  SHI16295  4.929955\n"
     ]
    }
   ],
   "source": [
    "print(df.head(12))"
   ]
  },
  {
   "cell_type": "code",
   "execution_count": null,
   "id": "8fa4d522",
   "metadata": {},
   "outputs": [],
   "source": [
    "# Aggregate daily data to monthly data\n",
    "df['year_month'] = df['datetime'].dt.to_period('M')\n",
    "monthly_df = df.groupby(['year_month', 'guri_num'])['total_KW'].sum().reset_index()"
   ]
  },
  {
   "cell_type": "code",
   "execution_count": null,
   "id": "b4a5b017",
   "metadata": {},
   "outputs": [],
   "source": [
    "# Extract month and year from the year_month column\n",
    "monthly_df['year'] = monthly_df['year_month'].dt.year\n",
    "monthly_df['month'] = monthly_df['year_month'].dt.month\n",
    "monthly_df['ds'] = monthly_df['year_month'].dt.to_timestamp()"
   ]
  },
  {
   "cell_type": "code",
   "execution_count": null,
   "id": "18fd58e0",
   "metadata": {},
   "outputs": [],
   "source": [
    "# Initialize an empty DataFrame to store future predictions\n",
    "all_future_predictions = pd.DataFrame()"
   ]
  },
  {
   "cell_type": "code",
   "execution_count": null,
   "id": "fe6231c9",
   "metadata": {},
   "outputs": [],
   "source": [
    "# Train and save models for each guri_num\n",
    "for guri in monthly_df['guri_num'].unique():\n",
    "    df_guri = monthly_df[monthly_df['guri_num'] == guri][['ds', 'total_KW', 'month', 'year']]\n",
    "    df_guri = df_guri.rename(columns={'total_KW': 'y'})\n",
    "    \n",
    "    # Initialize and train the Prophet model\n",
    "    prophet_model = Prophet()\n",
    "    prophet_model.add_regressor('month')\n",
    "    prophet_model.add_regressor('year')\n",
    "    prophet_model.fit(df_guri)\n",
    "    "
   ]
  },
  {
   "cell_type": "code",
   "execution_count": null,
   "id": "a517f8c0",
   "metadata": {},
   "outputs": [],
   "source": [
    "    # Save the model\n",
    "    with open(f'prophet_model_{guri}.pkl', 'wb') as f:\n",
    "        pickle.dump(prophet_model, f)\n",
    "    \n",
    "    # Create future dataframe for predictions\n",
    "    future_dates = pd.date_range(start='2023-01-01', end='2029-12-31', freq='M')\n",
    "    future = pd.DataFrame({\n",
    "        'ds': future_dates,\n",
    "        'month': future_dates.month,\n",
    "        'year': future_dates.year\n",
    "    })"
   ]
  },
  {
   "cell_type": "code",
   "execution_count": null,
   "id": "4acb2bab",
   "metadata": {},
   "outputs": [],
   "source": [
    "# Make future predictions\n",
    "    forecast = prophet_model.predict(future)\n",
    "    forecast['guri_num'] = guri\n",
    "    \n",
    "    # Append future predictions to the combined DataFrame\n",
    "    all_future_predictions = pd.concat([all_future_predictions, forecast[['ds', 'guri_num', 'yhat']]])\n"
   ]
  },
  {
   "cell_type": "code",
   "execution_count": null,
   "id": "098b12a2",
   "metadata": {},
   "outputs": [],
   "source": [
    "# Rename columns for clarity\n",
    "all_future_predictions = all_future_predictions.rename(columns={'yhat': 'predicted_total_KW'})"
   ]
  },
  {
   "cell_type": "code",
   "execution_count": null,
   "id": "497aa2d3",
   "metadata": {},
   "outputs": [],
   "source": [
    "# Save the future predictions to CSV\n",
    "all_future_predictions.to_csv('future_predictions_2023_2029.csv', index=False)"
   ]
  },
  {
   "cell_type": "markdown",
   "id": "95709b25",
   "metadata": {},
   "source": [
    "# Provider prediction"
   ]
  },
  {
   "cell_type": "code",
   "execution_count": 1,
   "id": "1ba1950a",
   "metadata": {},
   "outputs": [
    {
     "name": "stderr",
     "output_type": "stream",
     "text": [
      "C:\\Users\\xusee\\anaconda3\\Lib\\site-packages\\pandas\\core\\arrays\\masked.py:60: UserWarning: Pandas requires version '1.3.6' or newer of 'bottleneck' (version '1.3.5' currently installed).\n",
      "  from pandas.core import (\n",
      "22:56:29 - cmdstanpy - INFO - Chain [1] start processing\n",
      "22:56:47 - cmdstanpy - INFO - Chain [1] done processing\n"
     ]
    },
    {
     "data": {
      "image/png": "[encoded data removed]",
      "text/plain": [
       "<Figure size 1200x600 with 1 Axes>"
      ]
     },
     "metadata": {},
     "output_type": "display_data"
    }
   ],
   "source": [
    "import pandas as pd\n",
    "from prophet import Prophet\n",
    "import joblib\n",
    "\n",
    "# Load the dataset\n",
    "df = pd.read_csv('electricity_consumption_data.csv')\n",
    "\n",
    "# Convert 'datetime' to datetime data type\n",
    "df['datetime'] = pd.to_datetime(df['datetime'])\n",
    "\n",
    "# Extract year and month from 'datetime'\n",
    "df['year'] = df['datetime'].dt.year\n",
    "df['month'] = df['datetime'].dt.month\n",
    "\n",
    "# Aggregate total KW by month and year\n",
    "aggregated_data = df.groupby(['year', 'month']).agg({'total_KW': 'sum'}).reset_index()\n",
    "\n",
    "# Create a 'ds' column with the first day of each month\n",
    "aggregated_data['ds'] = pd.to_datetime(aggregated_data[['year', 'month']].assign(day=1))\n",
    "\n",
    "# Rename columns for Prophet\n",
    "aggregated_data = aggregated_data.rename(columns={'total_KW': 'y'})\n",
    "\n",
    "# Initialize and train the model with yearly and monthly seasonality\n",
    "model = Prophet(yearly_seasonality=True, weekly_seasonality=False, daily_seasonality=False)\n",
    "model.add_seasonality(name='monthly', period=30.5, fourier_order=5)\n",
    "model.fit(aggregated_data)\n",
    "\n",
    "# Save the model to a file\n",
    "joblib.dump(model, 'prophet_model1.pkl')\n",
    "\n",
    "print(\"Model saved successfully.\")\n"
   ]
  },
  {
   "cell_type": "code",
   "execution_count": 3,
   "id": "c6468ea7",
   "metadata": {},
   "outputs": [
    {
     "data": {
      "text/plain": [
       "['prophet_model.pkl']"
      ]
     },
     "execution_count": 3,
     "metadata": {},
     "output_type": "execute_result"
    }
   ],
   "source": [
    "import joblib\n",
    "joblib.dump(model, 'prophet_model.pkl')"
   ]
  },
  {
   "cell_type": "code",
   "execution_count": null,
   "id": "3214b266",
   "metadata": {},
   "outputs": [],
   "source": []
  },
  {
   "cell_type": "code",
   "execution_count": null,
   "id": "e942b5d6",
   "metadata": {},
   "outputs": [],
   "source": []
  }
 ],
 "metadata": {
  "kernelspec": {
   "display_name": "Python 3 (ipykernel)",
   "language": "python",
   "name": "python3"
  },
  "language_info": {
   "codemirror_mode": {
    "name": "ipython",
    "version": 3
   },
   "file_extension": ".py",
   "mimetype": "text/x-python",
   "name": "python",
   "nbconvert_exporter": "python",
   "pygments_lexer": "ipython3",
   "version": "3.11.4"
  }
 },
 "nbformat": 4,
 "nbformat_minor": 5
}
