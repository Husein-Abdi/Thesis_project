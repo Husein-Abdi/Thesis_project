{
 "cells": [
  {
   "cell_type": "markdown",
   "id": "d94caf6f",
   "metadata": {},
   "source": [
    "# Catboost model"
   ]
  },
  {
   "cell_type": "code",
   "execution_count": 9,
   "id": "f0a4d4fb",
   "metadata": {},
   "outputs": [
    {
     "name": "stdout",
     "output_type": "stream",
     "text": [
      "0:\tlearn: 39.6420363\ttotal: 72.2ms\tremaining: 1m 12s\n",
      "100:\tlearn: 16.2305317\ttotal: 6.05s\tremaining: 53.9s\n",
      "200:\tlearn: 15.8459366\ttotal: 11.3s\tremaining: 45s\n",
      "300:\tlearn: 15.6447248\ttotal: 17s\tremaining: 39.5s\n",
      "400:\tlearn: 15.4985489\ttotal: 22.6s\tremaining: 33.7s\n",
      "500:\tlearn: 15.3671827\ttotal: 28.3s\tremaining: 28.2s\n",
      "600:\tlearn: 15.2719006\ttotal: 34.3s\tremaining: 22.8s\n",
      "700:\tlearn: 15.1884664\ttotal: 40.2s\tremaining: 17.1s\n",
      "800:\tlearn: 15.0988905\ttotal: 45.2s\tremaining: 11.2s\n",
      "900:\tlearn: 15.0267898\ttotal: 50.5s\tremaining: 5.55s\n",
      "999:\tlearn: 14.9520342\ttotal: 55.4s\tremaining: 0us\n",
      "Root Mean Squared Error: 14.384885005151625\n",
      "R² Score: 0.8866880635798848\n",
      "Mean Absolute Error: 11.147805408634705\n"
     ]
    }
   ],
   "source": [
    "import pandas as pd\n",
    "import numpy as np\n",
    "from catboost import CatBoostRegressor, Pool\n",
    "from sklearn.model_selection import train_test_split\n",
    "from sklearn.metrics import mean_squared_error, r2_score, mean_absolute_error\n",
    "\n",
    "\n",
    "# Load the dataset\n",
    "df = pd.read_csv('electricity_consumption_data2.csv')\n",
    "\n",
    "# Convert 'datetime' to datetime data type\n",
    "df['datetime'] = pd.to_datetime(df['datetime'])\n",
    "\n",
    "# Aggregate daily data to monthly data\n",
    "df['year_month'] = df['datetime'].dt.to_period('M')\n",
    "monthly_df = df.groupby(['year_month', 'guri_num'])['total_KW'].sum().reset_index()\n",
    "\n",
    "# Extract month and year from the year_month column\n",
    "monthly_df['year'] = monthly_df['year_month'].dt.year\n",
    "monthly_df['month'] = monthly_df['year_month'].dt.month\n",
    "\n",
    "# Select the features and target variable\n",
    "features = ['guri_num', 'month', 'year']\n",
    "target = 'total_KW'\n",
    "\n",
    "X = monthly_df[features]\n",
    "y = monthly_df[target]\n",
    "\n",
    "# Split the data into training and testing sets\n",
    "X_train, X_test, y_train, y_test = train_test_split(X, y, test_size=0.2, random_state=42)\n",
    "\n",
    "# Specify the categorical features\n",
    "categorical_features = ['guri_num']\n",
    "\n",
    "# Create the Pool object for CatBoost\n",
    "train_pool = Pool(data=X_train, label=y_train, cat_features=categorical_features)\n",
    "test_pool = Pool(data=X_test, label=y_test, cat_features=categorical_features)\n",
    "\n",
    "# Train a CatBoost Regressor\n",
    "model = CatBoostRegressor(iterations=1000, depth=6, learning_rate=0.1, loss_function='RMSE', random_seed=42)\n",
    "model.fit(train_pool, verbose=100)\n",
    "\n",
    "# Make predictions on the test set\n",
    "y_pred = model.predict(test_pool)\n",
    "\n",
    "# Evaluate the model\n",
    "mse = mean_squared_error(y_test, y_pred)\n",
    "rmse = np.sqrt(mse)\n",
    "r2 = r2_score(y_test, y_pred)\n",
    "mae = mean_absolute_error(y_test, y_pred)\n",
    "\n",
    "print(f\"Root Mean Squared Error: {rmse}\")\n",
    "print(f\"R² Score: {r2}\")\n",
    "print(f\"Mean Absolute Error: {mae}\")"
   ]
  },
  {
   "cell_type": "code",
   "execution_count": 2,
   "id": "d711f3f6",
   "metadata": {},
   "outputs": [
    {
     "name": "stdout",
     "output_type": "stream",
     "text": [
      "Root Mean Squared Error: 14.499966672337042\n",
      "R² Score: 0.8087025895453765\n",
      "Mean Absolute Error: 11.30461049255248\n"
     ]
    }
   ],
   "source": [
    "# Evaluate the model\n",
    "mse = mean_squared_error(y_test, y_pred)\n",
    "rmse = np.sqrt(mse)\n",
    "r2 = r2_score(y_test, y_pred)\n",
    "mae = mean_absolute_error(y_test, y_pred)\n",
    "\n",
    "print(f\"Root Mean Squared Error: {rmse}\")\n",
    "print(f\"R² Score: {r2}\")\n",
    "print(f\"Mean Absolute Error: {mae}\")"
   ]
  },
  {
   "cell_type": "code",
   "execution_count": 16,
   "id": "15608ebd",
   "metadata": {},
   "outputs": [
    {
     "name": "stdout",
     "output_type": "stream",
     "text": [
      "   year_month  guri_num  year  month  predicted_total_KW\n",
      "0  2018-01-31  BOO13096  2018      1           97.108518\n",
      "1  2018-02-28  BOO13096  2018      2          138.580204\n",
      "2  2018-03-31  BOO13096  2018      3          168.485307\n",
      "3  2018-04-30  BOO13096  2018      4          159.302909\n",
      "4  2018-05-31  BOO13096  2018      5          156.454073\n",
      "5  2018-06-30  BOO13096  2018      6          100.847673\n",
      "6  2018-07-31  BOO13096  2018      7           88.779460\n",
      "7  2018-08-31  BOO13096  2018      8           75.012261\n",
      "8  2018-09-30  BOO13096  2018      9           64.989473\n",
      "9  2018-10-31  BOO13096  2018     10           67.650657\n",
      "10 2018-11-30  BOO13096  2018     11           72.752346\n",
      "11 2018-12-31  BOO13096  2018     12           86.733387\n"
     ]
    }
   ],
   "source": [
    "\n",
    "\n",
    "# Prepare for future predictions\n",
    "# Extract unique house numbers (guri_num) from your dataset\n",
    "valid_guri_nums = monthly_df['guri_num'].unique()\n",
    "\n",
    "# Generate future months for prediction\n",
    "future_dates = pd.date_range(start='2018-01-01', end='2026-12-31', freq='M')\n",
    "\n",
    "# Create a DataFrame for future predictions\n",
    "future_df = pd.DataFrame({\n",
    "    'year_month': np.tile(future_dates, len(valid_guri_nums)),\n",
    "    'guri_num': np.repeat(valid_guri_nums, len(future_dates))\n",
    "})\n",
    "\n",
    "# Extract month and year for future dates\n",
    "future_df['year'] = future_df['year_month'].dt.year\n",
    "future_df['month'] = future_df['year_month'].dt.month\n",
    "\n",
    "# Select the features for future prediction\n",
    "X_future = future_df[['guri_num', 'month', 'year']]\n",
    "\n",
    "# Create the Pool object for future data\n",
    "future_pool = Pool(data=X_future, cat_features=categorical_features)\n",
    "\n",
    "# Predict future electricity consumption using the trained CatBoost model\n",
    "future_df['predicted_total_KW'] = model.predict(future_pool)\n",
    "\n",
    "# Display the future predictions\n",
    "print(future_df.head(12))\n",
    "\n",
    "# Save the future predictions to CSV\n",
    "# future_df.to_csv('future_predictions.csv', index=False)"
   ]
  },
  {
   "cell_type": "code",
   "execution_count": 17,
   "id": "66ad161c",
   "metadata": {},
   "outputs": [
    {
     "name": "stdout",
     "output_type": "stream",
     "text": [
      "      year_month  guri_num  year  month  predicted_total_KW\n",
      "53958 2023-07-31  YAA97684  2023      7           87.322408\n",
      "53959 2023-08-31  YAA97684  2023      8           75.757715\n",
      "53960 2023-09-30  YAA97684  2023      9           65.796797\n",
      "53961 2023-10-31  YAA97684  2023     10           67.617787\n",
      "53962 2023-11-30  YAA97684  2023     11           72.737616\n",
      "53963 2023-12-31  YAA97684  2023     12           87.058458\n",
      "53964 2024-01-31  YAA97684  2024      1          103.588907\n",
      "53965 2024-02-29  YAA97684  2024      2          145.011609\n",
      "53966 2024-03-31  YAA97684  2024      3          171.665325\n",
      "53967 2024-04-30  YAA97684  2024      4          160.643493\n",
      "53968 2024-05-31  YAA97684  2024      5          157.788812\n",
      "53969 2024-06-30  YAA97684  2024      6           98.982543\n",
      "53970 2024-07-31  YAA97684  2024      7           90.131328\n",
      "53971 2024-08-31  YAA97684  2024      8           78.436217\n",
      "53972 2024-09-30  YAA97684  2024      9           68.666085\n",
      "53973 2024-10-31  YAA97684  2024     10           69.909077\n",
      "53974 2024-11-30  YAA97684  2024     11           75.339551\n",
      "53975 2024-12-31  YAA97684  2024     12           90.129846\n",
      "53976 2025-01-31  YAA97684  2025      1          105.177353\n",
      "53977 2025-02-28  YAA97684  2025      2          145.755243\n",
      "53978 2025-03-31  YAA97684  2025      3          172.652859\n",
      "53979 2025-04-30  YAA97684  2025      4          162.202014\n",
      "53980 2025-05-31  YAA97684  2025      5          159.873890\n",
      "53981 2025-06-30  YAA97684  2025      6          101.639094\n",
      "53982 2025-07-31  YAA97684  2025      7           92.636591\n",
      "53983 2025-08-31  YAA97684  2025      8           80.746083\n",
      "53984 2025-09-30  YAA97684  2025      9           70.155069\n",
      "53985 2025-10-31  YAA97684  2025     10           71.435045\n",
      "53986 2025-11-30  YAA97684  2025     11           77.339230\n",
      "53987 2025-12-31  YAA97684  2025     12           94.006900\n",
      "53988 2026-01-31  YAA97684  2026      1          105.177353\n",
      "53989 2026-02-28  YAA97684  2026      2          145.755243\n",
      "53990 2026-03-31  YAA97684  2026      3          172.652859\n",
      "53991 2026-04-30  YAA97684  2026      4          162.202014\n",
      "53992 2026-05-31  YAA97684  2026      5          159.873890\n",
      "53993 2026-06-30  YAA97684  2026      6          101.639094\n",
      "53994 2026-07-31  YAA97684  2026      7           92.636591\n",
      "53995 2026-08-31  YAA97684  2026      8           80.746083\n",
      "53996 2026-09-30  YAA97684  2026      9           70.155069\n",
      "53997 2026-10-31  YAA97684  2026     10           71.435045\n",
      "53998 2026-11-30  YAA97684  2026     11           77.339230\n",
      "53999 2026-12-31  YAA97684  2026     12           94.006900\n"
     ]
    }
   ],
   "source": [
    "print(future_df.tail(42))"
   ]
  },
  {
   "cell_type": "code",
   "execution_count": 5,
   "id": "0e27b8bf",
   "metadata": {},
   "outputs": [
    {
     "data": {
      "text/plain": [
       "['catboost_model.pkl']"
      ]
     },
     "execution_count": 5,
     "metadata": {},
     "output_type": "execute_result"
    }
   ],
   "source": [
    "import joblib\n",
    "joblib.dump(model, 'catboost_model.pkl')"
   ]
  },
  {
   "cell_type": "markdown",
   "id": "a6d4e489",
   "metadata": {},
   "source": [
    "# XGBoost model "
   ]
  },
  {
   "cell_type": "code",
   "execution_count": null,
   "id": "061f33f0",
   "metadata": {},
   "outputs": [],
   "source": [
    "import pandas as pd\n",
    "from sklearn.model_selection import train_test_split\n",
    "import xgboost as xgb\n",
    "from sklearn.metrics import mean_squared_error, r2_score, mean_absolute_error\n",
    "import numpy as np\n",
    "import joblib\n",
    "import matplotlib.pyplot as plt\n",
    "import seaborn as sns\n",
    "# Load the dataset\n",
    "df = pd.read_csv('electricity_consumption_data.csv')\n",
    "# Convert 'datetime' to datetime data type\n",
    "df['datetime'] = pd.to_datetime(df['datetime'])\n",
    "\n",
    "# Aggregate daily data to monthly data\n",
    "df['year_month'] = df['datetime'].dt.to_period('M')\n",
    "monthly_df = df.groupby(['year_month', 'guri_num', 'deg_num'])['total_KW'].sum().reset_index()\n",
    "\n",
    "# Extract month and year from the year_month column\n",
    "monthly_df['year'] = monthly_df['year_month'].dt.year\n",
    "monthly_df['month'] = monthly_df['year_month'].dt.month\n",
    "\n",
    "# Select the features and target variable\n",
    "features = ['guri_num', 'deg_num', 'month', 'year']\n",
    "target = 'total_KW'\n",
    "\n",
    "X = monthly_df[features]\n",
    "y = monthly_df[target]\n",
    "\n",
    "# Split the data into training and testing sets\n",
    "X_train, X_test, y_train, y_test = train_test_split(X, y, test_size=0.2, random_state=42)\n",
    "\n",
    "# Train the XGBoost model\n",
    "xgb_model = xgb.XGBRegressor(objective='reg:squarederror')\n",
    "xgb_model.fit(X_train, y_train)\n",
    "\n",
    "# Make predictions on the test set\n",
    "y_pred = xgb_model.predict(X_test)\n",
    "\n",
    "# Evaluate the best model\n",
    "mse = mean_squared_error(y_test, y_pred)\n",
    "rmse = np.sqrt(mse)\n",
    "r2 = r2_score(y_test, y_pred)\n",
    "mae = mean_absolute_error(y_test, y_pred)\n",
    "\n",
    "print(f\"Root Mean Squared Error: {rmse}\")\n",
    "print(f\"R² Score: {r2}\")\n",
    "print(f\"Mean Absolute Error: {mae}\")\n",
    "\n",
    "# Generate future months for prediction\n",
    "future_dates = pd.date_range(start='2023-01-01', end='2028-12-31', freq='M')\n",
    "\n",
    "# Extract unique guri_num and deg_num combinations from the original dataset\n",
    "unique_combinations = df[['guri_num', 'deg_num']].drop_duplicates()\n",
    "\n",
    "# Create a DataFrame for future predictions\n",
    "future_df = pd.DataFrame({\n",
    "    'year_month': np.tile(future_dates, len(unique_combinations)),\n",
    "    'guri_num': np.repeat(unique_combinations['guri_num'].values, len(future_dates)),\n",
    "    'deg_num': np.repeat(unique_combinations['deg_num'].values, len(future_dates))\n",
    "})\n",
    "\n",
    "# Extract month and year for future dates\n",
    "future_df['year'] = future_df['year_month'].dt.year\n",
    "future_df['month'] = future_df['year_month'].dt.month\n",
    "\n",
    "# Select the features for future prediction\n",
    "X_future = future_df[['guri_num', 'deg_num', 'month', 'year']]\n",
    "\n",
    "# Predict future electricity consumption\n",
    "future_df['predicted_total_KW'] = xgb_model.predict(X_future)\n",
    "\n",
    "\n",
    "# Output the future predictions\n",
    "print(future_df.head(12))"
   ]
  }
 ],
 "metadata": {
  "kernelspec": {
   "display_name": "Python 3 (ipykernel)",
   "language": "python",
   "name": "python3"
  },
  "language_info": {
   "codemirror_mode": {
    "name": "ipython",
    "version": 3
   },
   "file_extension": ".py",
   "mimetype": "text/x-python",
   "name": "python",
   "nbconvert_exporter": "python",
   "pygments_lexer": "ipython3",
   "version": "3.11.4"
  }
 },
 "nbformat": 4,
 "nbformat_minor": 5
}
