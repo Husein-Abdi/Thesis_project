{
 "cells": [
  {
   "cell_type": "code",
   "execution_count": 13,
   "id": "efb94a67",
   "metadata": {},
   "outputs": [],
   "source": [
    "import pandas as pd\n",
    "# Load your dataset\n",
    "dataset = pd.read_csv('electricity_consumption_data.csv')\n",
    "\n",
    "# Ensure the datetime column is in datetime format\n",
    "dataset['datetime'] = pd.to_datetime(dataset['datetime'])\n",
    "\n",
    "# Extract year and month from the datetime column\n",
    "dataset['year'] = dataset['datetime'].dt.year\n",
    "dataset['month'] = dataset['datetime'].dt.month\n",
    "\n",
    "# Filter data to include only years up to 2022\n",
    "historical_data = dataset[dataset['year'] <= 2028]\n",
    "\n",
    "# Aggregate the data to get monthly consumption\n",
    "monthly_data = historical_data.groupby(['guri_num', 'deg_num', 'year', 'month'])['total_KW'].sum().reset_index()\n",
    "\n",
    "# Save the aggregated dataset\n",
    "monthly_data.to_csv('monthly_consumption.csv', index=False)"
   ]
  },
  {
   "cell_type": "code",
   "execution_count": 14,
   "id": "b78262f4",
   "metadata": {},
   "outputs": [
    {
     "name": "stdout",
     "output_type": "stream",
     "text": [
      "Root Mean Squared Error: 28.361275452766613\n",
      "R² Score: 0.5535383802475784\n",
      "Mean Absolute Error: 22.396844073189786\n"
     ]
    }
   ],
   "source": [
    "from sklearn.model_selection import train_test_split\n",
    "from sklearn.metrics import mean_squared_error, r2_score, mean_absolute_error\n",
    "import joblib\n",
    "import xgboost as xgb\n",
    "from sklearn.neighbors import KNeighborsRegressor\n",
    "from sklearn.metrics import mean_squared_error\n",
    "import numpy as np\n",
    "\n",
    "# Load the aggregated monthly data\n",
    "monthly_data = pd.read_csv('monthly_consumption.csv')\n",
    "\n",
    "# Define features and target\n",
    "features = monthly_data[['guri_num', 'deg_num', 'year', 'month']]\n",
    "target = monthly_data['total_KW']\n",
    "\n",
    "# Split the data into training and test sets\n",
    "X_train, X_test, y_train, y_test = train_test_split(features, target, test_size=0.2, random_state=42)\n",
    "\n",
    "# Train a K-Nearest Neighbors Regressor\n",
    "visualization_model = KNeighborsRegressor(n_neighbors=5)  # Example with k=5\n",
    "visualization_model.fit(X_train, y_train)\n",
    "\n",
    "# Make predictions on the test set\n",
    "y_pred = visualization_model.predict(X_test)\n",
    "\n",
    "# Evaluate the best model\n",
    "mse = mean_squared_error(y_test, y_pred)\n",
    "rmse = np.sqrt(mse)\n",
    "r2 = r2_score(y_test, y_pred)\n",
    "mae = mean_absolute_error(y_test, y_pred)\n",
    "\n",
    "print(f\"Root Mean Squared Error: {rmse}\")\n",
    "print(f\"R² Score: {r2}\")\n",
    "print(f\"Mean Absolute Error: {mae}\")"
   ]
  },
  {
   "cell_type": "code",
   "execution_count": 16,
   "id": "5bb344a0",
   "metadata": {},
   "outputs": [
    {
     "name": "stdout",
     "output_type": "stream",
     "text": [
      "   guri_num  deg_num  year  month  predicted_total_KW\n",
      "0      1034        7  2023      1           68.105450\n",
      "1      1034        7  2023      2           73.281992\n",
      "2      1034        7  2023      3           64.417250\n",
      "3      1034        7  2023      4           57.868865\n",
      "4      1034        7  2023      5           52.853080\n"
     ]
    }
   ],
   "source": [
    "# Create a future dataframe prediction\n",
    "def create_future_dataframe(guri_nums, deg_nums, start_year, end_year):\n",
    "    future_periods = pd.date_range(start=f'{start_year}-01-01', end=f'{end_year}-12-01', freq='MS')\n",
    "    future_data = []\n",
    "    for guri_num in guri_nums:\n",
    "        for deg_num in deg_nums:\n",
    "            for date in future_periods:\n",
    "                future_data.append({\n",
    "                    'guri_num': guri_num,\n",
    "                    'deg_num': deg_num,\n",
    "                    'year': date.year,\n",
    "                    'month': date.month\n",
    "                })\n",
    "    return pd.DataFrame(future_data)\n",
    "\n",
    "# Define the range of guri_nums and deg_nums, and the future period\n",
    "guri_nums = monthly_data['guri_num'].unique()\n",
    "deg_nums = monthly_data['deg_num'].unique()\n",
    "start_year = 2023\n",
    "end_year = 2025\n",
    "\n",
    "# Create the future dataframe\n",
    "future_df = create_future_dataframe(guri_nums, deg_nums, start_year, end_year)\n",
    "\n",
    "# Predict future consumption\n",
    "future_predictions = visualization_model.predict(future_df)\n",
    "\n",
    "# Add predictions to the future dataframe\n",
    "future_df['predicted_total_KW'] = future_predictions\n",
    "\n",
    "# Display the future dataframe with predictions\n",
    "print(future_df.head())"
   ]
  },
  {
   "cell_type": "code",
   "execution_count": null,
   "id": "9f691030",
   "metadata": {},
   "outputs": [],
   "source": [
    "# Save the trained model\n",
    "joblib.dump(visualization_model, 'visualization_model.pkl')"
   ]
  }
 ],
 "metadata": {
  "kernelspec": {
   "display_name": "Python 3 (ipykernel)",
   "language": "python",
   "name": "python3"
  },
  "language_info": {
   "codemirror_mode": {
    "name": "ipython",
    "version": 3
   },
   "file_extension": ".py",
   "mimetype": "text/x-python",
   "name": "python",
   "nbconvert_exporter": "python",
   "pygments_lexer": "ipython3",
   "version": "3.11.4"
  }
 },
 "nbformat": 4,
 "nbformat_minor": 5
}
