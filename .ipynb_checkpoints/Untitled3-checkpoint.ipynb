{
 "cells": [
  {
   "cell_type": "code",
   "execution_count": null,
   "id": "f7e6e179",
   "metadata": {},
   "outputs": [],
   "source": []
  },
  {
   "cell_type": "code",
   "execution_count": 33,
   "id": "04178e2d",
   "metadata": {},
   "outputs": [
    {
     "name": "stdout",
     "output_type": "stream",
     "text": [
      "      year_month  guri_num\n",
      "11988 2025-01-31  YAA97684\n",
      "11989 2025-02-28  YAA97684\n",
      "11990 2025-03-31  YAA97684\n",
      "11991 2025-04-30  YAA97684\n",
      "11992 2025-05-31  YAA97684\n",
      "11993 2025-06-30  YAA97684\n",
      "11994 2025-07-31  YAA97684\n",
      "11995 2025-08-31  YAA97684\n",
      "11996 2025-09-30  YAA97684\n",
      "11997 2025-10-31  YAA97684\n",
      "11998 2025-11-30  YAA97684\n",
      "11999 2025-12-31  YAA97684\n"
     ]
    }
   ],
   "source": [
    "print(future_df.tail(12))"
   ]
  },
  {
   "cell_type": "code",
   "execution_count": 21,
   "id": "bb8d7c18",
   "metadata": {},
   "outputs": [],
   "source": [
    "# Save the future predictions to CSV\n",
    "future_df.to_csv('future_predictions.csv', index=False)"
   ]
  },
  {
   "cell_type": "code",
   "execution_count": 22,
   "id": "8186c9a6",
   "metadata": {},
   "outputs": [
    {
     "data": {
      "text/plain": [
       "['catboost_model.pkl']"
      ]
     },
     "execution_count": 22,
     "metadata": {},
     "output_type": "execute_result"
    }
   ],
   "source": [
    "import joblib\n",
    "joblib.dump(model, 'catboost_model.pkl')"
   ]
  },
  {
   "cell_type": "code",
   "execution_count": null,
   "id": "30e6a7e1",
   "metadata": {},
   "outputs": [],
   "source": []
  }
 ],
 "metadata": {
  "kernelspec": {
   "display_name": "Python 3 (ipykernel)",
   "language": "python",
   "name": "python3"
  },
  "language_info": {
   "codemirror_mode": {
    "name": "ipython",
    "version": 3
   },
   "file_extension": ".py",
   "mimetype": "text/x-python",
   "name": "python",
   "nbconvert_exporter": "python",
   "pygments_lexer": "ipython3",
   "version": "3.11.4"
  }
 },
 "nbformat": 4,
 "nbformat_minor": 5
}
