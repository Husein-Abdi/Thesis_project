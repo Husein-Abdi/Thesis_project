{
 "cells": [
  {
   "cell_type": "markdown",
   "id": "563a5989",
   "metadata": {},
   "source": [
    "<a id=\"1\"></a>\n",
    "<p style=\"background-color:#00B0FF;font-family:Trebuchet MS;font-weight:bold;color:#ffffff;font-size:40px;text-align:center;border-radius:100px 100px;padding:30px;\"\">Energy consumption prediction</p>"
   ]
  },
  {
   "cell_type": "markdown",
   "id": "92649804",
   "metadata": {},
   "source": [
    "<img src=\"download.jpg\" style= \"width:900px; height:300px\"/>"
   ]
  },
  {
   "cell_type": "code",
   "execution_count": 21,
   "id": "c7fc16e7",
   "metadata": {},
   "outputs": [
    {
     "ename": "ModuleNotFoundError",
     "evalue": "No module named 'keras'",
     "output_type": "error",
     "traceback": [
      "\u001b[1;31m---------------------------------------------------------------------------\u001b[0m",
      "\u001b[1;31mModuleNotFoundError\u001b[0m                       Traceback (most recent call last)",
      "Cell \u001b[1;32mIn[21], line 7\u001b[0m\n\u001b[0;32m      5\u001b[0m \u001b[38;5;28;01mimport\u001b[39;00m \u001b[38;5;21;01mxgboost\u001b[39;00m \u001b[38;5;28;01mas\u001b[39;00m \u001b[38;5;21;01mxgb\u001b[39;00m\n\u001b[0;32m      6\u001b[0m \u001b[38;5;28;01mfrom\u001b[39;00m \u001b[38;5;21;01msklearn\u001b[39;00m\u001b[38;5;21;01m.\u001b[39;00m\u001b[38;5;21;01mpreprocessing\u001b[39;00m \u001b[38;5;28;01mimport\u001b[39;00m MinMaxScaler\n\u001b[1;32m----> 7\u001b[0m \u001b[38;5;28;01mfrom\u001b[39;00m \u001b[38;5;21;01mkeras\u001b[39;00m\u001b[38;5;21;01m.\u001b[39;00m\u001b[38;5;21;01mmodels\u001b[39;00m \u001b[38;5;28;01mimport\u001b[39;00m Sequential\n\u001b[0;32m      8\u001b[0m \u001b[38;5;28;01mfrom\u001b[39;00m \u001b[38;5;21;01mkeras\u001b[39;00m\u001b[38;5;21;01m.\u001b[39;00m\u001b[38;5;21;01mlayers\u001b[39;00m \u001b[38;5;28;01mimport\u001b[39;00m LSTM, Dense\n\u001b[0;32m      9\u001b[0m \u001b[38;5;28;01mfrom\u001b[39;00m \u001b[38;5;21;01msklearn\u001b[39;00m\u001b[38;5;21;01m.\u001b[39;00m\u001b[38;5;21;01mmetrics\u001b[39;00m \u001b[38;5;28;01mimport\u001b[39;00m mean_squared_error, r2_score, mean_absolute_error\n",
      "\u001b[1;31mModuleNotFoundError\u001b[0m: No module named 'keras'"
     ]
    }
   ],
   "source": [
    "import pandas as pd\n",
    "from sklearn.model_selection import train_test_split\n",
    "from sklearn.ensemble import RandomForestRegressor\n",
    "from sklearn.neighbors import KNeighborsRegressor\n",
    "import xgboost as xgb\n",
    "from sklearn.preprocessing import MinMaxScaler\n",
    "from keras.models import Sequential\n",
    "from keras.layers import LSTM, Dense\n",
    "from sklearn.metrics import mean_squared_error, r2_score, mean_absolute_error\n",
    "from sklearn.model_selection import GridSearchCV\n",
    "from sklearn.pipeline import Pipeline\n",
    "import numpy as np\n",
    "import joblib\n",
    "import matplotlib.pyplot as plt\n",
    "import seaborn as sns"
   ]
  },
  {
   "cell_type": "code",
   "execution_count": 22,
   "id": "434dd692",
   "metadata": {},
   "outputs": [],
   "source": [
    "# Load the dataset\n",
    "df = pd.read_csv('electricity_consumption_data.csv')\n",
    "# Convert 'datetime' to datetime data type\n",
    "df['datetime'] = pd.to_datetime(df['datetime'])"
   ]
  },
  {
   "cell_type": "code",
   "execution_count": 32,
   "id": "677b4b1a",
   "metadata": {},
   "outputs": [
    {
     "name": "stdout",
     "output_type": "stream",
     "text": [
      "<class 'pandas.core.frame.DataFrame'>\n",
      "RangeIndex: 18260000 entries, 0 to 18259999\n",
      "Data columns (total 4 columns):\n",
      " #   Column    Dtype         \n",
      "---  ------    -----         \n",
      " 0   datetime  datetime64[ns]\n",
      " 1   guri_num  int64         \n",
      " 2   deg_num   int64         \n",
      " 3   total_KW  float64       \n",
      "dtypes: datetime64[ns](1), float64(1), int64(2)\n",
      "memory usage: 557.3 MB\n",
      "None\n"
     ]
    }
   ],
   "source": [
    "print(df.info())"
   ]
  },
  {
   "cell_type": "code",
   "execution_count": null,
   "id": "2473818d",
   "metadata": {},
   "outputs": [],
   "source": [
    "# Aggregate daily data to monthly data\n",
    "df['year_month'] = df['datetime'].dt.to_period('M')\n",
    "monthly_df = df.groupby(['year_month', 'guri_num', 'deg_num'])['total_KW'].sum().reset_index()\n",
    "\n",
    "# Extract month and year from the year_month column\n",
    "monthly_df['year'] = monthly_df['year_month'].dt.year\n",
    "monthly_df['month'] = monthly_df['year_month'].dt.month\n",
    "\n",
    "# Select the features and target variable\n",
    "features = ['guri_num', 'deg_num', 'month', 'year']\n",
    "target = 'total_KW'\n",
    "\n",
    "X = monthly_df[features]\n",
    "y = monthly_df[target]\n",
    "\n",
    "# Normalize the features\n",
    "scaler = MinMaxScaler()\n",
    "X_scaled = scaler.fit_transform(X)\n",
    "\n",
    "# Split the data into training and testing sets\n",
    "X_train, X_test, y_train, y_test = train_test_split(X_scaled, y, test_size=0.2, random_state=42)\n",
    "\n",
    "# Reshape input to be [samples, time steps, features]\n",
    "X_train_reshaped = X_train.reshape((X_train.shape[0], 1, X_train.shape[1]))\n",
    "X_test_reshaped = X_test.reshape((X_test.shape[0], 1, X_test.shape[1]))\n",
    "\n",
    "# Define the LSTM model\n",
    "model = Sequential()\n",
    "model.add(LSTM(50, activation='relu', input_shape=(1, X_train.shape[1])))\n",
    "model.add(Dense(1))\n",
    "model.compile(optimizer='adam', loss='mse')\n",
    "\n",
    "# Fit the model\n",
    "model.fit(X_train_reshaped, y_train, epochs=200, batch_size=32, verbose=0)\n",
    "\n",
    "# Make predictions\n",
    "y_pred_lstm = model.predict(X_test_reshaped)\n",
    "\n",
    "# Evaluate the model\n",
    "mse_lstm = mean_squared_error(y_test, y_pred_lstm)\n",
    "rmse_lstm = np.sqrt(mse_lstm)\n",
    "r2_lstm = r2_score(y_test, y_pred_lstm)\n",
    "mae_lstm = mean_absolute_error(y_test, y_pred_lstm)\n",
    "\n",
    "print(f\"Root Mean Squared Error (LSTM): {rmse_lstm}\")\n",
    "print(f\"R² Score (LSTM): {r2_lstm}\")\n",
    "print(f\"Mean Absolute Error (LSTM): {mae_lstm}\")"
   ]
  },
  {
   "cell_type": "markdown",
   "id": "b5a4ff40",
   "metadata": {},
   "source": [
    "# RandomForest"
   ]
  },
  {
   "cell_type": "code",
   "execution_count": 3,
   "id": "7ceca445",
   "metadata": {},
   "outputs": [
    {
     "name": "stdout",
     "output_type": "stream",
     "text": [
      "Root Mean Squared Error: 29.44942074383645\n",
      "R² Score: 0.5178441785180122\n",
      "Mean Absolute Error: 23.26854994744939\n"
     ]
    }
   ],
   "source": [
    "# Aggregate daily data to monthly data\n",
    "df['year_month'] = df['datetime'].dt.to_period('M')\n",
    "monthly_df = df.groupby(['year_month', 'guri_num', 'deg_num'])['total_KW'].sum().reset_index()\n",
    "\n",
    "# Extract month and year from the year_month column\n",
    "monthly_df['year'] = monthly_df['year_month'].dt.year\n",
    "monthly_df['month'] = monthly_df['year_month'].dt.month\n",
    "\n",
    "# Select the features and target variable\n",
    "features = ['guri_num', 'deg_num', 'month', 'year']\n",
    "target = 'total_KW'\n",
    "\n",
    "X = monthly_df[features]\n",
    "y = monthly_df[target]\n",
    "\n",
    "# Split the data into training and testing sets\n",
    "X_train, X_test, y_train, y_test = train_test_split(X, y, test_size=0.2, random_state=42)\n",
    "\n",
    "# Train a Random Forest Regressor\n",
    "model = RandomForestRegressor(n_estimators=100, random_state=42)\n",
    "model.fit(X_train, y_train)\n",
    "\n",
    "# Make predictions on the test set\n",
    "y_pred = model.predict(X_test)\n",
    "\n",
    "# Evaluate the best model\n",
    "mse = mean_squared_error(y_test, y_pred)\n",
    "rmse = np.sqrt(mse)\n",
    "r2 = r2_score(y_test, y_pred)\n",
    "mae = mean_absolute_error(y_test, y_pred)\n",
    "\n",
    "print(f\"Root Mean Squared Error: {rmse}\")\n",
    "print(f\"R² Score: {r2}\")\n",
    "print(f\"Mean Absolute Error: {mae}\")"
   ]
  },
  {
   "cell_type": "code",
   "execution_count": 4,
   "id": "11aeefaf",
   "metadata": {},
   "outputs": [
    {
     "name": "stdout",
     "output_type": "stream",
     "text": [
      "   year_month  guri_num  deg_num  year  month  predicted_total_KW\n",
      "0  2023-01-31     53171        7  2023      1          107.410980\n",
      "1  2023-02-28     53171        7  2023      2          117.082848\n",
      "2  2023-03-31     53171        7  2023      3          141.722036\n",
      "3  2023-04-30     53171        7  2023      4          186.724152\n",
      "4  2023-05-31     53171        7  2023      5          161.570079\n",
      "5  2023-06-30     53171        7  2023      6          122.270950\n",
      "6  2023-07-31     53171        7  2023      7          142.639093\n",
      "7  2023-08-31     53171        7  2023      8          101.513496\n",
      "8  2023-09-30     53171        7  2023      9          124.450934\n",
      "9  2023-10-31     53171        7  2023     10          112.390790\n",
      "10 2023-11-30     53171        7  2023     11          128.396327\n",
      "11 2023-12-31     53171        7  2023     12          148.196021\n"
     ]
    }
   ],
   "source": [
    "# Extract unique house numbers (guri_num) from your dataset\n",
    "valid_guri_nums = monthly_df['guri_num'].unique()\n",
    "\n",
    "# Generate future months for prediction\n",
    "future_dates = pd.date_range(start='2023-01-01', end='2028-12-31', freq='M')\n",
    "\n",
    "# Extract unique guri_num and deg_num combinations from the original dataset\n",
    "unique_combinations = df[['guri_num', 'deg_num']].drop_duplicates()\n",
    "\n",
    "# Create a DataFrame for future predictions\n",
    "future_df = pd.DataFrame({\n",
    "    'year_month': np.tile(future_dates, len(unique_combinations)),\n",
    "    'guri_num': np.repeat(unique_combinations['guri_num'].values, len(future_dates)),\n",
    "    'deg_num': np.repeat(unique_combinations['deg_num'].values, len(future_dates))\n",
    "})\n",
    "\n",
    "# Extract month and year for future dates\n",
    "future_df['year'] = future_df['year_month'].dt.year\n",
    "future_df['month'] = future_df['year_month'].dt.month\n",
    "\n",
    "# Filter the future_df to include only valid house numbers\n",
    "future_df_filtered = future_df[future_df['guri_num'].isin(valid_guri_nums)]\n",
    "\n",
    "# Select the features for future prediction\n",
    "X_future_filtered = future_df_filtered[['guri_num', 'deg_num', 'month', 'year']]\n",
    "\n",
    "# Train a Random Forest Regressor\n",
    "features = ['guri_num', 'deg_num', 'month', 'year']\n",
    "target = 'total_KW'\n",
    "\n",
    "X = monthly_df[features]\n",
    "y = monthly_df[target]\n",
    "\n",
    "X_train, X_test, y_train, y_test = train_test_split(X, y, test_size=0.2, random_state=42)\n",
    "\n",
    "model = RandomForestRegressor(n_estimators=100, random_state=42)\n",
    "model.fit(X_train, y_train)\n",
    "\n",
    "# Predict future electricity consumption\n",
    "future_df_filtered['predicted_total_KW'] = model.predict(X_future_filtered)\n",
    "print(future_df_filtered.head(12))\n",
    "# Save the future predictions to CSV\n",
    "# future_df_filtered.to_csv('future_predictions1.csv', index=False)"
   ]
  },
  {
   "cell_type": "code",
   "execution_count": null,
   "id": "0bb14d9b",
   "metadata": {},
   "outputs": [],
   "source": [
    "# print(future_df_filtered.head())"
   ]
  },
  {
   "cell_type": "code",
   "execution_count": null,
   "id": "327bdfdb",
   "metadata": {},
   "outputs": [],
   "source": [
    "# joblib.dump(model, \"model.pkl\") "
   ]
  },
  {
   "cell_type": "markdown",
   "id": "959d44ea",
   "metadata": {},
   "source": [
    "# KNN MODEL"
   ]
  },
  {
   "cell_type": "code",
   "execution_count": 13,
   "id": "7c6f3e3a",
   "metadata": {},
   "outputs": [
    {
     "name": "stdout",
     "output_type": "stream",
     "text": [
      "Root Mean Squared Error: 28.440480288047667\n",
      "R² Score: 0.5503156705579757\n",
      "Mean Absolute Error: 22.486900096755107\n"
     ]
    }
   ],
   "source": [
    "# Aggregate daily data to monthly data\n",
    "df['year_month'] = df['datetime'].dt.to_period('M')\n",
    "monthly_df = df.groupby(['year_month', 'guri_num', 'deg_num'])['total_KW'].sum().reset_index()\n",
    "\n",
    "# Extract month and year from the year_month column\n",
    "monthly_df['year'] = monthly_df['year_month'].dt.year\n",
    "monthly_df['month'] = monthly_df['year_month'].dt.month\n",
    "\n",
    "# Select the features and target variable\n",
    "features = ['guri_num', 'deg_num', 'month', 'year']\n",
    "target = 'total_KW'\n",
    "\n",
    "X = monthly_df[features]\n",
    "y = monthly_df[target]\n",
    "\n",
    "# Split the data into training and testing sets\n",
    "X_train, X_test, y_train, y_test = train_test_split(X, y, test_size=0.2, random_state=42)\n",
    "\n",
    "# Train a K-Nearest Neighbors Regressor\n",
    "knn_model = KNeighborsRegressor(n_neighbors=5)  # Example with k=5\n",
    "knn_model.fit(X_train, y_train)\n",
    "\n",
    "# Make predictions on the test set\n",
    "y_pred = knn_model.predict(X_test)\n",
    "\n",
    "# Evaluate the best model\n",
    "mse = mean_squared_error(y_test, y_pred)\n",
    "rmse = np.sqrt(mse)\n",
    "r2 = r2_score(y_test, y_pred)\n",
    "mae = mean_absolute_error(y_test, y_pred)\n",
    "\n",
    "print(f\"Root Mean Squared Error: {rmse}\")\n",
    "print(f\"R² Score: {r2}\")\n",
    "print(f\"Mean Absolute Error: {mae}\")"
   ]
  },
  {
   "cell_type": "code",
   "execution_count": 14,
   "id": "40e6f72a",
   "metadata": {},
   "outputs": [
    {
     "name": "stdout",
     "output_type": "stream",
     "text": [
      "   year_month  guri_num  deg_num  year  month  predicted_total_KW\n",
      "0  2023-01-31     53171        7  2023      1          121.174988\n",
      "1  2023-02-28     53171        7  2023      2          139.737952\n",
      "2  2023-03-31     53171        7  2023      3          139.737952\n",
      "3  2023-04-30     53171        7  2023      4          155.422012\n",
      "4  2023-05-31     53171        7  2023      5          160.397093\n",
      "5  2023-06-30     53171        7  2023      6          156.727569\n",
      "6  2023-07-31     53171        7  2023      7          114.244825\n",
      "7  2023-08-31     53171        7  2023      8          130.209295\n",
      "8  2023-09-30     53171        7  2023      9          100.243301\n",
      "9  2023-10-31     53171        7  2023     10          127.479948\n",
      "10 2023-11-30     53171        7  2023     11          142.166615\n",
      "11 2023-12-31     53171        7  2023     12          151.934008\n"
     ]
    }
   ],
   "source": [
    "# Generate future months for prediction\n",
    "future_dates = pd.date_range(start='2023-01-01', end='2028-12-31', freq='M')\n",
    "\n",
    "# Extract unique guri_num and deg_num combinations from the original dataset\n",
    "unique_combinations = df[['guri_num', 'deg_num']].drop_duplicates()\n",
    "\n",
    "# Create a DataFrame for future predictions\n",
    "future_df = pd.DataFrame({\n",
    "    'year_month': np.tile(future_dates, len(unique_combinations)),\n",
    "    'guri_num': np.repeat(unique_combinations['guri_num'].values, len(future_dates)),\n",
    "    'deg_num': np.repeat(unique_combinations['deg_num'].values, len(future_dates))\n",
    "})\n",
    "\n",
    "# Extract month and year for future dates\n",
    "future_df['year'] = future_df['year_month'].dt.year\n",
    "future_df['month'] = future_df['year_month'].dt.month\n",
    "\n",
    "# Select the features for future prediction\n",
    "X_future = future_df[['guri_num', 'deg_num', 'month', 'year']]\n",
    "\n",
    "# Predict future electricity consumption\n",
    "future_df['predicted_total_KW'] = knn_model.predict(X_future)\n",
    "\n",
    "\n",
    "# Output the future predictions\n",
    "print(future_df.head(12))"
   ]
  },
  {
   "cell_type": "code",
   "execution_count": 8,
   "id": "ba599c49",
   "metadata": {},
   "outputs": [],
   "source": [
    "future_df.to_csv('future_predictions.csv', index=False)"
   ]
  },
  {
   "cell_type": "code",
   "execution_count": 10,
   "id": "a853a348",
   "metadata": {},
   "outputs": [
    {
     "data": {
      "text/plain": [
       "['knn_model.pkl']"
      ]
     },
     "execution_count": 10,
     "metadata": {},
     "output_type": "execute_result"
    }
   ],
   "source": [
    "joblib.dump(knn_model, \"knn_model.pkl\") "
   ]
  },
  {
   "cell_type": "markdown",
   "id": "29efada6",
   "metadata": {},
   "source": [
    "# XGBoost"
   ]
  },
  {
   "cell_type": "code",
   "execution_count": 7,
   "id": "7da946f9",
   "metadata": {},
   "outputs": [
    {
     "name": "stdout",
     "output_type": "stream",
     "text": [
      "Root Mean Squared Error: 36.53256882322391\n",
      "R² Score: 0.2580163707853059\n",
      "Mean Absolute Error: 29.938583278226357\n"
     ]
    }
   ],
   "source": [
    "# Aggregate daily data to monthly data\n",
    "df['year_month'] = df['datetime'].dt.to_period('M')\n",
    "monthly_df = df.groupby(['year_month', 'guri_num', 'deg_num'])['total_KW'].sum().reset_index()\n",
    "\n",
    "# Extract month and year from the year_month column\n",
    "monthly_df['year'] = monthly_df['year_month'].dt.year\n",
    "monthly_df['month'] = monthly_df['year_month'].dt.month\n",
    "\n",
    "# Select the features and target variable\n",
    "features = ['guri_num', 'deg_num', 'month', 'year']\n",
    "target = 'total_KW'\n",
    "\n",
    "X = monthly_df[features]\n",
    "y = monthly_df[target]\n",
    "\n",
    "# Split the data into training and testing sets\n",
    "X_train, X_test, y_train, y_test = train_test_split(X, y, test_size=0.2, random_state=42)\n",
    "\n",
    "# Train the XGBoost model\n",
    "xgb_model = xgb.XGBRegressor(objective='reg:squarederror')\n",
    "xgb_model.fit(X_train, y_train)\n",
    "\n",
    "# Make predictions on the test set\n",
    "y_pred = xgb_model.predict(X_test)\n",
    "\n",
    "# Evaluate the best model\n",
    "mse = mean_squared_error(y_test, y_pred)\n",
    "rmse = np.sqrt(mse)\n",
    "r2 = r2_score(y_test, y_pred)\n",
    "mae = mean_absolute_error(y_test, y_pred)\n",
    "\n",
    "print(f\"Root Mean Squared Error: {rmse}\")\n",
    "print(f\"R² Score: {r2}\")\n",
    "print(f\"Mean Absolute Error: {mae}\")"
   ]
  },
  {
   "cell_type": "code",
   "execution_count": 10,
   "id": "57a41db9",
   "metadata": {},
   "outputs": [
    {
     "name": "stdout",
     "output_type": "stream",
     "text": [
      "   year_month  guri_num  deg_num  year  month  predicted_total_KW\n",
      "0  2023-01-31     53171        7  2023      1           85.112000\n",
      "1  2023-02-28     53171        7  2023      2          106.162193\n",
      "2  2023-03-31     53171        7  2023      3          125.786873\n",
      "3  2023-04-30     53171        7  2023      4          118.635513\n",
      "4  2023-05-31     53171        7  2023      5          117.706322\n",
      "5  2023-06-30     53171        7  2023      6           85.353203\n",
      "6  2023-07-31     53171        7  2023      7           85.137962\n",
      "7  2023-08-31     53171        7  2023      8           85.137962\n",
      "8  2023-09-30     53171        7  2023      9           82.789085\n",
      "9  2023-10-31     53171        7  2023     10           84.834709\n",
      "10 2023-11-30     53171        7  2023     11           82.644760\n",
      "11 2023-12-31     53171        7  2023     12           84.803940\n"
     ]
    }
   ],
   "source": [
    "# Generate future months for prediction\n",
    "future_dates = pd.date_range(start='2023-01-01', end='2028-12-31', freq='M')\n",
    "\n",
    "# Extract unique guri_num and deg_num combinations from the original dataset\n",
    "unique_combinations = df[['guri_num', 'deg_num']].drop_duplicates()\n",
    "\n",
    "# Create a DataFrame for future predictions\n",
    "future_df = pd.DataFrame({\n",
    "    'year_month': np.tile(future_dates, len(unique_combinations)),\n",
    "    'guri_num': np.repeat(unique_combinations['guri_num'].values, len(future_dates)),\n",
    "    'deg_num': np.repeat(unique_combinations['deg_num'].values, len(future_dates))\n",
    "})\n",
    "\n",
    "# Extract month and year for future dates\n",
    "future_df['year'] = future_df['year_month'].dt.year\n",
    "future_df['month'] = future_df['year_month'].dt.month\n",
    "\n",
    "# Select the features for future prediction\n",
    "X_future = future_df[['guri_num', 'deg_num', 'month', 'year']]\n",
    "\n",
    "# Predict future electricity consumption\n",
    "future_df['predicted_total_KW'] = xgb_model.predict(X_future)\n",
    "\n",
    "\n",
    "# Output the future predictions\n",
    "print(future_df.head(12))"
   ]
  },
  {
   "cell_type": "code",
   "execution_count": 9,
   "id": "d5331cbb",
   "metadata": {},
   "outputs": [
    {
     "data": {
      "text/plain": [
       "0.2580163707853059"
      ]
     },
     "execution_count": 9,
     "metadata": {},
     "output_type": "execute_result"
    }
   ],
   "source": [
    "xgb_model.score(X_test, y_test)"
   ]
  },
  {
   "cell_type": "code",
   "execution_count": 9,
   "id": "a7acd82e",
   "metadata": {},
   "outputs": [
    {
     "data": {
      "text/plain": [
       "['xgb_model.pkl']"
      ]
     },
     "execution_count": 9,
     "metadata": {},
     "output_type": "execute_result"
    }
   ],
   "source": [
    "joblib.dump(xgb_model, \"xgb_model.pkl\") "
   ]
  },
  {
   "cell_type": "code",
   "execution_count": 10,
   "id": "377f42e6",
   "metadata": {},
   "outputs": [],
   "source": [
    "future_df.to_csv('future_predictions.csv', index=False)"
   ]
  }
 ],
 "metadata": {
  "kernelspec": {
   "display_name": "Python 3 (ipykernel)",
   "language": "python",
   "name": "python3"
  },
  "language_info": {
   "codemirror_mode": {
    "name": "ipython",
    "version": 3
   },
   "file_extension": ".py",
   "mimetype": "text/x-python",
   "name": "python",
   "nbconvert_exporter": "python",
   "pygments_lexer": "ipython3",
   "version": "3.11.4"
  }
 },
 "nbformat": 4,
 "nbformat_minor": 5
}
